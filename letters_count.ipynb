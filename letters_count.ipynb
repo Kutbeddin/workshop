{
  "nbformat": 4,
  "nbformat_minor": 0,
  "metadata": {
    "colab": {
      "name": "letters count",
      "provenance": [],
      "authorship_tag": "ABX9TyNm/CsGhbURoflDFx58Cp8E",
      "include_colab_link": true
    },
    "kernelspec": {
      "name": "python3",
      "display_name": "Python 3"
    },
    "language_info": {
      "name": "python"
    }
  },
  "cells": [
    {
      "cell_type": "markdown",
      "metadata": {
        "id": "view-in-github",
        "colab_type": "text"
      },
      "source": [
        "<a href=\"https://colab.research.google.com/github/Kutbeddin/workshop/blob/main/letters_count.ipynb\" target=\"_parent\"><img src=\"https://colab.research.google.com/assets/colab-badge.svg\" alt=\"Open In Colab\"/></a>"
      ]
    },
    {
      "cell_type": "code",
      "metadata": {
        "id": "Js1pJzn744vz"
      },
      "source": [
        ""
      ],
      "execution_count": null,
      "outputs": []
    },
    {
      "cell_type": "code",
      "metadata": {
        "id": "CnQJkCt69Klq"
      },
      "source": [
        "\n",
        "sentence=input(\"enter sentence:\")\n",
        "b=\"\".join(sentence.split())\n",
        "c=[]\n",
        "for i in b:\n",
        "   c.append(b.count(i))\n",
        "   k=dict(tuple(zip(b,c)))\n",
        "print(k)"
      ],
      "execution_count": null,
      "outputs": []
    }
  ]
}